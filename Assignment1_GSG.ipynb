{
 "cells": [
  {
   "cell_type": "markdown",
   "id": "3984320c-c292-4960-9bee-eb84f754ff46",
   "metadata": {},
   "source": [
    "## Task 1: Array Basics (Numpy)"
   ]
  },
  {
   "cell_type": "code",
   "execution_count": 2,
   "id": "3d000d6e-8226-4076-aa06-c063a136a7b3",
   "metadata": {},
   "outputs": [],
   "source": [
    "import numpy as np # import numpy library"
   ]
  },
  {
   "cell_type": "markdown",
   "id": "317eb40c-bfe6-49ef-a5b4-7d8ca44322d1",
   "metadata": {},
   "source": [
    "## 1. Create Arrays"
   ]
  },
  {
   "cell_type": "markdown",
   "id": "4ee9a047-6ea4-47ee-96a2-92cbd132acd9",
   "metadata": {},
   "source": [
    "#### ● Generate the following numpy arrays:\n",
    "1. A 1D array of integers from 0 to 9."
   ]
  },
  {
   "cell_type": "code",
   "execution_count": 5,
   "id": "037180c0-7f9e-4f66-8cf8-bc4de7e83415",
   "metadata": {},
   "outputs": [
    {
     "data": {
      "text/plain": [
       "array([0, 1, 2, 3, 4, 5, 6, 7, 8, 9])"
      ]
     },
     "execution_count": 5,
     "metadata": {},
     "output_type": "execute_result"
    }
   ],
   "source": [
    "array = np.arange(10)\n",
    "array"
   ]
  },
  {
   "cell_type": "code",
   "execution_count": 6,
   "id": "ec21ed30-794e-4cd5-a357-e0ffc8daa8cb",
   "metadata": {},
   "outputs": [
    {
     "data": {
      "text/plain": [
       "array([0, 1, 2, 3, 4, 5, 6, 7, 8, 9])"
      ]
     },
     "execution_count": 6,
     "metadata": {},
     "output_type": "execute_result"
    }
   ],
   "source": [
    "array2 = np.array([0, 1, 2, 3, 4, 5, 6, 7, 8, 9])\n",
    "array2"
   ]
  },
  {
   "cell_type": "code",
   "execution_count": 7,
   "id": "37478b4e-30d0-4625-8dcd-b161e2fd709f",
   "metadata": {},
   "outputs": [
    {
     "data": {
      "text/plain": [
       "array([0, 1, 2, 3, 4, 5, 6, 7, 8, 9])"
      ]
     },
     "execution_count": 7,
     "metadata": {},
     "output_type": "execute_result"
    }
   ],
   "source": [
    "array3 = np.linspace(0, 9, 10, dtype=int) # from 0 to 9 .. 10 values , type is int  array([0, 1, 2, 3, 4, 5, 6, 7, 8, 9])\n",
    "# array3 = np.linspace(0, 9, 10) # without type output is array([0., 1., 2., 3., 4., 5., 6., 7., 8., 9.])\n",
    "array3"
   ]
  },
  {
   "cell_type": "markdown",
   "id": "55353e4e-e43a-4867-97b4-138caa8b5580",
   "metadata": {},
   "source": [
    "2. A 3x3 matrix of random integers between 1 and 100."
   ]
  },
  {
   "cell_type": "code",
   "execution_count": 9,
   "id": "9f4f4d6b-91e1-4904-a7d4-83dd8a809601",
   "metadata": {},
   "outputs": [
    {
     "data": {
      "text/plain": [
       "array([[71, 82, 74],\n",
       "       [49,  9, 90],\n",
       "       [20, 60, 14]])"
      ]
     },
     "execution_count": 9,
     "metadata": {},
     "output_type": "execute_result"
    }
   ],
   "source": [
    "# random 3D array\n",
    "matrix = np.random.randint(1, 101, size=(3, 3)) # [ 1, 101 [ to include 100 \n",
    "matrix"
   ]
  },
  {
   "cell_type": "code",
   "execution_count": 10,
   "id": "d39e31a9-96a7-439c-843a-34685904e5d3",
   "metadata": {},
   "outputs": [
    {
     "data": {
      "text/plain": [
       "array([[ 1, 72, 45],\n",
       "       [10, 99, 17],\n",
       "       [44, 54, 61]])"
      ]
     },
     "execution_count": 10,
     "metadata": {},
     "output_type": "execute_result"
    }
   ],
   "source": [
    "# fixed 3D array\n",
    "matrix2 = np.array([[1, 72, 45], [10, 99 , 17] ,[44, 54 , 61]])\n",
    "matrix2"
   ]
  },
  {
   "cell_type": "markdown",
   "id": "7bb8c856-f78d-47d1-931a-4399dc77f876",
   "metadata": {},
   "source": [
    "## 2. Reshape Arrays\n"
   ]
  },
  {
   "cell_type": "markdown",
   "id": "bf403fca-3704-42bc-8a66-209d834bb091",
   "metadata": {},
   "source": [
    "#### ● Reshape the 1D array from (1.1) into a 2D array with 2 rows and 5 columns."
   ]
  },
  {
   "cell_type": "code",
   "execution_count": 13,
   "id": "f9126ee5-82f8-4d28-8ddc-b6d52e19bf8a",
   "metadata": {},
   "outputs": [
    {
     "data": {
      "text/plain": [
       "array([[0, 1, 2, 3, 4],\n",
       "       [5, 6, 7, 8, 9]])"
      ]
     },
     "execution_count": 13,
     "metadata": {},
     "output_type": "execute_result"
    }
   ],
   "source": [
    "array_to_2D = np.resize(array, (2, 5)) #using resize function from np\n",
    "array_to_2D"
   ]
  },
  {
   "cell_type": "code",
   "execution_count": 14,
   "id": "f6bfc992-dbe9-4b4b-a048-5d71ab585f15",
   "metadata": {},
   "outputs": [
    {
     "data": {
      "text/plain": [
       "array([[0, 1, 2, 3, 4],\n",
       "       [5, 6, 7, 8, 9]])"
      ]
     },
     "execution_count": 14,
     "metadata": {},
     "output_type": "execute_result"
    }
   ],
   "source": [
    "array2_to_2D = array.reshape(2, 5)  #using reshape method\n",
    "array2_to_2D"
   ]
  },
  {
   "cell_type": "markdown",
   "id": "ff6f5a44-81d0-47f7-976a-3ec275c8fbf7",
   "metadata": {},
   "source": [
    "## 3. Array Attributes"
   ]
  },
  {
   "cell_type": "markdown",
   "id": "13925267-143b-473d-b58d-ceac6d27f16e",
   "metadata": {},
   "source": [
    "### Display the following attributes of any one array:\n",
    "○ Shape\n",
    "○ Size\n",
    "○ Data type"
   ]
  },
  {
   "cell_type": "markdown",
   "id": "cf552a87-6431-4051-87cb-e1769b3aec33",
   "metadata": {},
   "source": [
    "##### applay on  1D array"
   ]
  },
  {
   "cell_type": "code",
   "execution_count": 18,
   "id": "be3f2af6-86d5-4c44-9418-5cd5d4a76d23",
   "metadata": {},
   "outputs": [
    {
     "data": {
      "text/plain": [
       "(10,)"
      ]
     },
     "execution_count": 18,
     "metadata": {},
     "output_type": "execute_result"
    }
   ],
   "source": [
    "# Shape\n",
    "array.shape"
   ]
  },
  {
   "cell_type": "code",
   "execution_count": 19,
   "id": "85732d33-fdac-4ed4-8f29-fa14542ff71c",
   "metadata": {},
   "outputs": [
    {
     "data": {
      "text/plain": [
       "10"
      ]
     },
     "execution_count": 19,
     "metadata": {},
     "output_type": "execute_result"
    }
   ],
   "source": [
    "# Size\n",
    "array.size"
   ]
  },
  {
   "cell_type": "code",
   "execution_count": 20,
   "id": "ba5c89aa-48b3-4e19-a4e2-1d901083ecd1",
   "metadata": {},
   "outputs": [
    {
     "data": {
      "text/plain": [
       "dtype('int32')"
      ]
     },
     "execution_count": 20,
     "metadata": {},
     "output_type": "execute_result"
    }
   ],
   "source": [
    "# Data type\n",
    "array.dtype"
   ]
  },
  {
   "cell_type": "markdown",
   "id": "09e0883a-9e64-4d05-a6b4-f94a1121b78a",
   "metadata": {},
   "source": [
    "##### applay on  3D array/matrix"
   ]
  },
  {
   "cell_type": "code",
   "execution_count": 22,
   "id": "61f63c40-ebea-4113-9bc3-77f5ad8cae5f",
   "metadata": {},
   "outputs": [
    {
     "data": {
      "text/plain": [
       "(3, 3)"
      ]
     },
     "execution_count": 22,
     "metadata": {},
     "output_type": "execute_result"
    }
   ],
   "source": [
    "# Data type\n",
    "matrix.shape"
   ]
  },
  {
   "cell_type": "code",
   "execution_count": 23,
   "id": "efd92126-1bb9-427b-94d5-fdd4ebd85fcd",
   "metadata": {},
   "outputs": [
    {
     "data": {
      "text/plain": [
       "9"
      ]
     },
     "execution_count": 23,
     "metadata": {},
     "output_type": "execute_result"
    }
   ],
   "source": [
    "# Data type\n",
    "matrix.size"
   ]
  },
  {
   "cell_type": "code",
   "execution_count": 24,
   "id": "65e7cd43-6440-47f8-b03e-19645f949575",
   "metadata": {},
   "outputs": [
    {
     "data": {
      "text/plain": [
       "dtype('int32')"
      ]
     },
     "execution_count": 24,
     "metadata": {},
     "output_type": "execute_result"
    }
   ],
   "source": [
    "# Data type\n",
    "matrix.dtype"
   ]
  },
  {
   "cell_type": "markdown",
   "id": "18c24782-4ab8-4aec-b414-d8883d236759",
   "metadata": {},
   "source": [
    "## Task 2: Data Manipulation (Pandas)"
   ]
  },
  {
   "cell_type": "code",
   "execution_count": 26,
   "id": "1b70f279-cd63-4df9-a9fe-0ea1d5f44a7a",
   "metadata": {},
   "outputs": [],
   "source": [
    "import pandas as pd # import pandas library"
   ]
  },
  {
   "cell_type": "markdown",
   "id": "9474c967-8784-49da-bf51-745c7dbc6be1",
   "metadata": {},
   "source": [
    "### 1. DataFrame Creation\n",
    "- Create a pandas DataFrame with random data (5 rows and 3 columns)\n",
    "- Label the columns as \"A,\" \"B,\" and \"C.\""
   ]
  },
  {
   "cell_type": "code",
   "execution_count": 28,
   "id": "1df2a81a-0b90-4a3e-b70a-2e3356dc7c4d",
   "metadata": {},
   "outputs": [
    {
     "data": {
      "text/plain": [
       "array([[74, 15, 81],\n",
       "       [80, 78, 94],\n",
       "       [ 2, 24, 94],\n",
       "       [81, 41, 99],\n",
       "       [48,  4, 81]])"
      ]
     },
     "execution_count": 28,
     "metadata": {},
     "output_type": "execute_result"
    }
   ],
   "source": [
    "# Create random data\n",
    "data = np.random.randint(100, size=(5, 3)) # 5 rows , 3 columns\n",
    "data"
   ]
  },
  {
   "cell_type": "code",
   "execution_count": 29,
   "id": "0bc5345f-cfcd-4384-8927-a6e1b4f7dd90",
   "metadata": {},
   "outputs": [
    {
     "data": {
      "text/plain": [
       "array([[59.65403989,  6.34878857,  6.14784416],\n",
       "       [64.50294837, 47.65897669, 11.13012175],\n",
       "       [88.39713628, 10.23538671, 79.81352948],\n",
       "       [46.33795202, 26.31284988, 25.61833114],\n",
       "       [38.12851601, 26.96804538, 94.73302359]])"
      ]
     },
     "execution_count": 29,
     "metadata": {},
     "output_type": "execute_result"
    }
   ],
   "source": [
    "# OR\n",
    "data = 100 * np.random.rand(5, 3)\n",
    "data"
   ]
  },
  {
   "cell_type": "code",
   "execution_count": 30,
   "id": "8b5ee14d-f982-44f9-8b3a-8dc17de12633",
   "metadata": {},
   "outputs": [
    {
     "data": {
      "text/html": [
       "<div>\n",
       "<style scoped>\n",
       "    .dataframe tbody tr th:only-of-type {\n",
       "        vertical-align: middle;\n",
       "    }\n",
       "\n",
       "    .dataframe tbody tr th {\n",
       "        vertical-align: top;\n",
       "    }\n",
       "\n",
       "    .dataframe thead th {\n",
       "        text-align: right;\n",
       "    }\n",
       "</style>\n",
       "<table border=\"1\" class=\"dataframe\">\n",
       "  <thead>\n",
       "    <tr style=\"text-align: right;\">\n",
       "      <th></th>\n",
       "      <th>0</th>\n",
       "      <th>1</th>\n",
       "      <th>2</th>\n",
       "    </tr>\n",
       "  </thead>\n",
       "  <tbody>\n",
       "    <tr>\n",
       "      <th>0</th>\n",
       "      <td>59.654040</td>\n",
       "      <td>6.348789</td>\n",
       "      <td>6.147844</td>\n",
       "    </tr>\n",
       "    <tr>\n",
       "      <th>1</th>\n",
       "      <td>64.502948</td>\n",
       "      <td>47.658977</td>\n",
       "      <td>11.130122</td>\n",
       "    </tr>\n",
       "    <tr>\n",
       "      <th>2</th>\n",
       "      <td>88.397136</td>\n",
       "      <td>10.235387</td>\n",
       "      <td>79.813529</td>\n",
       "    </tr>\n",
       "    <tr>\n",
       "      <th>3</th>\n",
       "      <td>46.337952</td>\n",
       "      <td>26.312850</td>\n",
       "      <td>25.618331</td>\n",
       "    </tr>\n",
       "    <tr>\n",
       "      <th>4</th>\n",
       "      <td>38.128516</td>\n",
       "      <td>26.968045</td>\n",
       "      <td>94.733024</td>\n",
       "    </tr>\n",
       "  </tbody>\n",
       "</table>\n",
       "</div>"
      ],
      "text/plain": [
       "           0          1          2\n",
       "0  59.654040   6.348789   6.147844\n",
       "1  64.502948  47.658977  11.130122\n",
       "2  88.397136  10.235387  79.813529\n",
       "3  46.337952  26.312850  25.618331\n",
       "4  38.128516  26.968045  94.733024"
      ]
     },
     "execution_count": 30,
     "metadata": {},
     "output_type": "execute_result"
    }
   ],
   "source": [
    "# Create DataFrame with random created data\n",
    "df = pd.DataFrame(data) \n",
    "df"
   ]
  },
  {
   "cell_type": "code",
   "execution_count": 31,
   "id": "89480c03-a7ad-4400-bfab-a8c495259ad5",
   "metadata": {},
   "outputs": [
    {
     "data": {
      "text/html": [
       "<div>\n",
       "<style scoped>\n",
       "    .dataframe tbody tr th:only-of-type {\n",
       "        vertical-align: middle;\n",
       "    }\n",
       "\n",
       "    .dataframe tbody tr th {\n",
       "        vertical-align: top;\n",
       "    }\n",
       "\n",
       "    .dataframe thead th {\n",
       "        text-align: right;\n",
       "    }\n",
       "</style>\n",
       "<table border=\"1\" class=\"dataframe\">\n",
       "  <thead>\n",
       "    <tr style=\"text-align: right;\">\n",
       "      <th></th>\n",
       "      <th>A</th>\n",
       "      <th>B</th>\n",
       "      <th>C</th>\n",
       "    </tr>\n",
       "  </thead>\n",
       "  <tbody>\n",
       "    <tr>\n",
       "      <th>0</th>\n",
       "      <td>59.654040</td>\n",
       "      <td>6.348789</td>\n",
       "      <td>6.147844</td>\n",
       "    </tr>\n",
       "    <tr>\n",
       "      <th>1</th>\n",
       "      <td>64.502948</td>\n",
       "      <td>47.658977</td>\n",
       "      <td>11.130122</td>\n",
       "    </tr>\n",
       "    <tr>\n",
       "      <th>2</th>\n",
       "      <td>88.397136</td>\n",
       "      <td>10.235387</td>\n",
       "      <td>79.813529</td>\n",
       "    </tr>\n",
       "    <tr>\n",
       "      <th>3</th>\n",
       "      <td>46.337952</td>\n",
       "      <td>26.312850</td>\n",
       "      <td>25.618331</td>\n",
       "    </tr>\n",
       "    <tr>\n",
       "      <th>4</th>\n",
       "      <td>38.128516</td>\n",
       "      <td>26.968045</td>\n",
       "      <td>94.733024</td>\n",
       "    </tr>\n",
       "  </tbody>\n",
       "</table>\n",
       "</div>"
      ],
      "text/plain": [
       "           A          B          C\n",
       "0  59.654040   6.348789   6.147844\n",
       "1  64.502948  47.658977  11.130122\n",
       "2  88.397136  10.235387  79.813529\n",
       "3  46.337952  26.312850  25.618331\n",
       "4  38.128516  26.968045  94.733024"
      ]
     },
     "execution_count": 31,
     "metadata": {},
     "output_type": "execute_result"
    }
   ],
   "source": [
    "df.columns = ['A', 'B', 'C'] # or can directly df = pd.DataFrame(np.random.rand(5, 3) , columns=['A', 'B', 'C'])\n",
    "df"
   ]
  },
  {
   "cell_type": "markdown",
   "id": "c0321cd3-0b3a-4c1f-84a5-e856fe108d55",
   "metadata": {},
   "source": [
    "### 2. Basic Operations\n",
    "- Display the first two rows of the DataFrame\n",
    "- Calculate the mean of each column\n",
    "- Add a new column \"D\" which is the sum of columns \"A\" and \"B\"\n"
   ]
  },
  {
   "cell_type": "code",
   "execution_count": 33,
   "id": "c677c17b-cd8c-4cb9-b7eb-a711d300ac6e",
   "metadata": {},
   "outputs": [
    {
     "data": {
      "text/html": [
       "<div>\n",
       "<style scoped>\n",
       "    .dataframe tbody tr th:only-of-type {\n",
       "        vertical-align: middle;\n",
       "    }\n",
       "\n",
       "    .dataframe tbody tr th {\n",
       "        vertical-align: top;\n",
       "    }\n",
       "\n",
       "    .dataframe thead th {\n",
       "        text-align: right;\n",
       "    }\n",
       "</style>\n",
       "<table border=\"1\" class=\"dataframe\">\n",
       "  <thead>\n",
       "    <tr style=\"text-align: right;\">\n",
       "      <th></th>\n",
       "      <th>A</th>\n",
       "      <th>B</th>\n",
       "      <th>C</th>\n",
       "    </tr>\n",
       "  </thead>\n",
       "  <tbody>\n",
       "    <tr>\n",
       "      <th>0</th>\n",
       "      <td>59.654040</td>\n",
       "      <td>6.348789</td>\n",
       "      <td>6.147844</td>\n",
       "    </tr>\n",
       "    <tr>\n",
       "      <th>1</th>\n",
       "      <td>64.502948</td>\n",
       "      <td>47.658977</td>\n",
       "      <td>11.130122</td>\n",
       "    </tr>\n",
       "  </tbody>\n",
       "</table>\n",
       "</div>"
      ],
      "text/plain": [
       "           A          B          C\n",
       "0  59.654040   6.348789   6.147844\n",
       "1  64.502948  47.658977  11.130122"
      ]
     },
     "execution_count": 33,
     "metadata": {},
     "output_type": "execute_result"
    }
   ],
   "source": [
    "df.head(2) # using head method"
   ]
  },
  {
   "cell_type": "code",
   "execution_count": 34,
   "id": "d524fa05-df21-4607-91e4-65d7a96890e4",
   "metadata": {},
   "outputs": [
    {
     "data": {
      "text/html": [
       "<div>\n",
       "<style scoped>\n",
       "    .dataframe tbody tr th:only-of-type {\n",
       "        vertical-align: middle;\n",
       "    }\n",
       "\n",
       "    .dataframe tbody tr th {\n",
       "        vertical-align: top;\n",
       "    }\n",
       "\n",
       "    .dataframe thead th {\n",
       "        text-align: right;\n",
       "    }\n",
       "</style>\n",
       "<table border=\"1\" class=\"dataframe\">\n",
       "  <thead>\n",
       "    <tr style=\"text-align: right;\">\n",
       "      <th></th>\n",
       "      <th>A</th>\n",
       "      <th>B</th>\n",
       "      <th>C</th>\n",
       "    </tr>\n",
       "  </thead>\n",
       "  <tbody>\n",
       "    <tr>\n",
       "      <th>1</th>\n",
       "      <td>64.502948</td>\n",
       "      <td>47.658977</td>\n",
       "      <td>11.130122</td>\n",
       "    </tr>\n",
       "    <tr>\n",
       "      <th>2</th>\n",
       "      <td>88.397136</td>\n",
       "      <td>10.235387</td>\n",
       "      <td>79.813529</td>\n",
       "    </tr>\n",
       "  </tbody>\n",
       "</table>\n",
       "</div>"
      ],
      "text/plain": [
       "           A          B          C\n",
       "1  64.502948  47.658977  11.130122\n",
       "2  88.397136  10.235387  79.813529"
      ]
     },
     "execution_count": 34,
     "metadata": {},
     "output_type": "execute_result"
    }
   ],
   "source": [
    "df.loc[[1, 2]]  # using loc"
   ]
  },
  {
   "cell_type": "code",
   "execution_count": 35,
   "id": "fad25560-195c-4b2d-a5a7-0c255bf83c97",
   "metadata": {},
   "outputs": [
    {
     "data": {
      "text/plain": [
       "A    59.404119\n",
       "B    23.504809\n",
       "C    43.488570\n",
       "dtype: float64"
      ]
     },
     "execution_count": 35,
     "metadata": {},
     "output_type": "execute_result"
    }
   ],
   "source": [
    "df.mean() # for all column "
   ]
  },
  {
   "cell_type": "code",
   "execution_count": 36,
   "id": "247f752d-7592-46d1-b350-2c988310eceb",
   "metadata": {},
   "outputs": [
    {
     "data": {
      "text/plain": [
       "59.40411851215987"
      ]
     },
     "execution_count": 36,
     "metadata": {},
     "output_type": "execute_result"
    }
   ],
   "source": [
    "df.A.mean() # mean for A column using .A to specify column"
   ]
  },
  {
   "cell_type": "code",
   "execution_count": 37,
   "id": "3bcce16a-c4b2-4c99-a4a8-f4429aba1689",
   "metadata": {},
   "outputs": [
    {
     "data": {
      "text/plain": [
       "23.50480944819749"
      ]
     },
     "execution_count": 37,
     "metadata": {},
     "output_type": "execute_result"
    }
   ],
   "source": [
    "df['B'].mean() # mean for B column using ['B'] to specify column"
   ]
  },
  {
   "cell_type": "code",
   "execution_count": 38,
   "id": "c70bd095-e804-4bcb-b026-0c9d83599084",
   "metadata": {},
   "outputs": [
    {
     "data": {
      "text/plain": [
       "43.48857002515342"
      ]
     },
     "execution_count": 38,
     "metadata": {},
     "output_type": "execute_result"
    }
   ],
   "source": [
    "df['C'].mean()"
   ]
  },
  {
   "cell_type": "code",
   "execution_count": 39,
   "id": "95e95a4e-799f-4756-89a7-3419dfbdcb4d",
   "metadata": {},
   "outputs": [],
   "source": [
    "df['D'] = df['A']+df['B'] # creat new D column = sum of A and B"
   ]
  },
  {
   "cell_type": "code",
   "execution_count": 40,
   "id": "8dcb2758-b0c4-4588-8fdd-288e2544cce9",
   "metadata": {},
   "outputs": [
    {
     "data": {
      "text/html": [
       "<div>\n",
       "<style scoped>\n",
       "    .dataframe tbody tr th:only-of-type {\n",
       "        vertical-align: middle;\n",
       "    }\n",
       "\n",
       "    .dataframe tbody tr th {\n",
       "        vertical-align: top;\n",
       "    }\n",
       "\n",
       "    .dataframe thead th {\n",
       "        text-align: right;\n",
       "    }\n",
       "</style>\n",
       "<table border=\"1\" class=\"dataframe\">\n",
       "  <thead>\n",
       "    <tr style=\"text-align: right;\">\n",
       "      <th></th>\n",
       "      <th>A</th>\n",
       "      <th>B</th>\n",
       "      <th>C</th>\n",
       "      <th>D</th>\n",
       "    </tr>\n",
       "  </thead>\n",
       "  <tbody>\n",
       "    <tr>\n",
       "      <th>0</th>\n",
       "      <td>59.654040</td>\n",
       "      <td>6.348789</td>\n",
       "      <td>6.147844</td>\n",
       "      <td>66.002828</td>\n",
       "    </tr>\n",
       "    <tr>\n",
       "      <th>1</th>\n",
       "      <td>64.502948</td>\n",
       "      <td>47.658977</td>\n",
       "      <td>11.130122</td>\n",
       "      <td>112.161925</td>\n",
       "    </tr>\n",
       "    <tr>\n",
       "      <th>2</th>\n",
       "      <td>88.397136</td>\n",
       "      <td>10.235387</td>\n",
       "      <td>79.813529</td>\n",
       "      <td>98.632523</td>\n",
       "    </tr>\n",
       "    <tr>\n",
       "      <th>3</th>\n",
       "      <td>46.337952</td>\n",
       "      <td>26.312850</td>\n",
       "      <td>25.618331</td>\n",
       "      <td>72.650802</td>\n",
       "    </tr>\n",
       "    <tr>\n",
       "      <th>4</th>\n",
       "      <td>38.128516</td>\n",
       "      <td>26.968045</td>\n",
       "      <td>94.733024</td>\n",
       "      <td>65.096561</td>\n",
       "    </tr>\n",
       "  </tbody>\n",
       "</table>\n",
       "</div>"
      ],
      "text/plain": [
       "           A          B          C           D\n",
       "0  59.654040   6.348789   6.147844   66.002828\n",
       "1  64.502948  47.658977  11.130122  112.161925\n",
       "2  88.397136  10.235387  79.813529   98.632523\n",
       "3  46.337952  26.312850  25.618331   72.650802\n",
       "4  38.128516  26.968045  94.733024   65.096561"
      ]
     },
     "execution_count": 40,
     "metadata": {},
     "output_type": "execute_result"
    }
   ],
   "source": [
    "df"
   ]
  },
  {
   "cell_type": "markdown",
   "id": "f77e6f5b-ed48-46fc-b43b-3405515c9903",
   "metadata": {},
   "source": [
    "### 3. Filtering and Sorting\n",
    "- Filter rows where column \"A\" values are greater than 50\n",
    "- Sort the DataFrame by column \"C\" in descending order."
   ]
  },
  {
   "cell_type": "code",
   "execution_count": 42,
   "id": "58705d09-75f6-4c6e-ab22-6ffc73aedbe4",
   "metadata": {},
   "outputs": [
    {
     "data": {
      "text/html": [
       "<div>\n",
       "<style scoped>\n",
       "    .dataframe tbody tr th:only-of-type {\n",
       "        vertical-align: middle;\n",
       "    }\n",
       "\n",
       "    .dataframe tbody tr th {\n",
       "        vertical-align: top;\n",
       "    }\n",
       "\n",
       "    .dataframe thead th {\n",
       "        text-align: right;\n",
       "    }\n",
       "</style>\n",
       "<table border=\"1\" class=\"dataframe\">\n",
       "  <thead>\n",
       "    <tr style=\"text-align: right;\">\n",
       "      <th></th>\n",
       "      <th>A</th>\n",
       "      <th>B</th>\n",
       "      <th>C</th>\n",
       "      <th>D</th>\n",
       "    </tr>\n",
       "  </thead>\n",
       "  <tbody>\n",
       "    <tr>\n",
       "      <th>0</th>\n",
       "      <td>59.654040</td>\n",
       "      <td>6.348789</td>\n",
       "      <td>6.147844</td>\n",
       "      <td>66.002828</td>\n",
       "    </tr>\n",
       "    <tr>\n",
       "      <th>1</th>\n",
       "      <td>64.502948</td>\n",
       "      <td>47.658977</td>\n",
       "      <td>11.130122</td>\n",
       "      <td>112.161925</td>\n",
       "    </tr>\n",
       "    <tr>\n",
       "      <th>2</th>\n",
       "      <td>88.397136</td>\n",
       "      <td>10.235387</td>\n",
       "      <td>79.813529</td>\n",
       "      <td>98.632523</td>\n",
       "    </tr>\n",
       "  </tbody>\n",
       "</table>\n",
       "</div>"
      ],
      "text/plain": [
       "           A          B          C           D\n",
       "0  59.654040   6.348789   6.147844   66.002828\n",
       "1  64.502948  47.658977  11.130122  112.161925\n",
       "2  88.397136  10.235387  79.813529   98.632523"
      ]
     },
     "execution_count": 42,
     "metadata": {},
     "output_type": "execute_result"
    }
   ],
   "source": [
    "filter_df = df[df['A'] > 50] \n",
    "filter_df"
   ]
  },
  {
   "cell_type": "code",
   "execution_count": 43,
   "id": "d735b7a4-3a4f-4a0d-9440-f7de406d65ff",
   "metadata": {},
   "outputs": [
    {
     "data": {
      "text/html": [
       "<div>\n",
       "<style scoped>\n",
       "    .dataframe tbody tr th:only-of-type {\n",
       "        vertical-align: middle;\n",
       "    }\n",
       "\n",
       "    .dataframe tbody tr th {\n",
       "        vertical-align: top;\n",
       "    }\n",
       "\n",
       "    .dataframe thead th {\n",
       "        text-align: right;\n",
       "    }\n",
       "</style>\n",
       "<table border=\"1\" class=\"dataframe\">\n",
       "  <thead>\n",
       "    <tr style=\"text-align: right;\">\n",
       "      <th></th>\n",
       "      <th>A</th>\n",
       "      <th>B</th>\n",
       "      <th>C</th>\n",
       "      <th>D</th>\n",
       "    </tr>\n",
       "  </thead>\n",
       "  <tbody>\n",
       "    <tr>\n",
       "      <th>4</th>\n",
       "      <td>38.128516</td>\n",
       "      <td>26.968045</td>\n",
       "      <td>94.733024</td>\n",
       "      <td>65.096561</td>\n",
       "    </tr>\n",
       "    <tr>\n",
       "      <th>2</th>\n",
       "      <td>88.397136</td>\n",
       "      <td>10.235387</td>\n",
       "      <td>79.813529</td>\n",
       "      <td>98.632523</td>\n",
       "    </tr>\n",
       "    <tr>\n",
       "      <th>3</th>\n",
       "      <td>46.337952</td>\n",
       "      <td>26.312850</td>\n",
       "      <td>25.618331</td>\n",
       "      <td>72.650802</td>\n",
       "    </tr>\n",
       "    <tr>\n",
       "      <th>1</th>\n",
       "      <td>64.502948</td>\n",
       "      <td>47.658977</td>\n",
       "      <td>11.130122</td>\n",
       "      <td>112.161925</td>\n",
       "    </tr>\n",
       "    <tr>\n",
       "      <th>0</th>\n",
       "      <td>59.654040</td>\n",
       "      <td>6.348789</td>\n",
       "      <td>6.147844</td>\n",
       "      <td>66.002828</td>\n",
       "    </tr>\n",
       "  </tbody>\n",
       "</table>\n",
       "</div>"
      ],
      "text/plain": [
       "           A          B          C           D\n",
       "4  38.128516  26.968045  94.733024   65.096561\n",
       "2  88.397136  10.235387  79.813529   98.632523\n",
       "3  46.337952  26.312850  25.618331   72.650802\n",
       "1  64.502948  47.658977  11.130122  112.161925\n",
       "0  59.654040   6.348789   6.147844   66.002828"
      ]
     },
     "execution_count": 43,
     "metadata": {},
     "output_type": "execute_result"
    }
   ],
   "source": [
    "sorted_by_C = df.sort_values(by='C', ascending=False) # تنازلي\n",
    "sorted_by_C"
   ]
  },
  {
   "cell_type": "markdown",
   "id": "4287fbf3-415e-4ff3-b273-cc7bb9f060d1",
   "metadata": {},
   "source": [
    "## Task 3: Numerical Computations (Numpy)"
   ]
  },
  {
   "cell_type": "markdown",
   "id": "638ec1ac-9ff7-4b1d-9071-bdcd4dc2513c",
   "metadata": {},
   "source": [
    "### 1. Element-Wise Operations\n",
    "- Create two 1D arrays of the same size with random integers\n",
    "- Perform addition, subtraction, and multiplication on the arrays\n"
   ]
  },
  {
   "cell_type": "code",
   "execution_count": 46,
   "id": "978635da-bee6-4354-b2bb-067f37b38ead",
   "metadata": {},
   "outputs": [
    {
     "data": {
      "text/plain": [
       "(array([44, 66, 42,  9, 23, 23, 85,  3, 88, 78]),\n",
       " array([26,  0, 82, 89, 66, 99, 34, 72, 42, 66]))"
      ]
     },
     "execution_count": 46,
     "metadata": {},
     "output_type": "execute_result"
    }
   ],
   "source": [
    "# Create two 1D arrays with random integers\n",
    "array1 = np.random.randint(100, size=10)\n",
    "array2 = np.random.randint(100, size=10)\n",
    "array1, array2"
   ]
  },
  {
   "cell_type": "code",
   "execution_count": 47,
   "id": "661813c5-93a0-4435-99f1-19272879f417",
   "metadata": {},
   "outputs": [
    {
     "name": "stdout",
     "output_type": "stream",
     "text": [
      "Addition Arrays: [ 70  66 124  98  89 122 119  75 130 144]\n"
     ]
    }
   ],
   "source": [
    "# Addition\n",
    "addition = array1 + array2\n",
    "print(\"Addition Arrays:\", addition)"
   ]
  },
  {
   "cell_type": "code",
   "execution_count": 48,
   "id": "86fdefda-750a-4015-8dfa-aeb7aa82eb7c",
   "metadata": {},
   "outputs": [
    {
     "name": "stdout",
     "output_type": "stream",
     "text": [
      "Subtraction Arrays: [ 18  66 -40 -80 -43 -76  51 -69  46  12]\n"
     ]
    }
   ],
   "source": [
    "# Subtraction\n",
    "subtraction = array1 - array2\n",
    "print(\"Subtraction Arrays:\", subtraction)"
   ]
  },
  {
   "cell_type": "code",
   "execution_count": 49,
   "id": "b98bbaed-3425-4729-b79d-d457bed2f0c4",
   "metadata": {},
   "outputs": [
    {
     "name": "stdout",
     "output_type": "stream",
     "text": [
      "Multiplication Arrays: [1144    0 3444  801 1518 2277 2890  216 3696 5148]\n"
     ]
    }
   ],
   "source": [
    "# Multiplication\n",
    "multiplication = array1 * array2\n",
    "print(\"Multiplication Arrays:\", multiplication)"
   ]
  },
  {
   "cell_type": "markdown",
   "id": "e4e829fd-ed3c-4bc6-b8f9-893efab43ee9",
   "metadata": {},
   "source": [
    "### 2. Aggregate Functions\n",
    "- Calculate the mean, sum, and standard deviation of a 1D array"
   ]
  },
  {
   "cell_type": "code",
   "execution_count": 51,
   "id": "980e4f54-5db7-4d80-8907-5478a2bff46a",
   "metadata": {},
   "outputs": [
    {
     "name": "stdout",
     "output_type": "stream",
     "text": [
      "Mean: 46.1\n"
     ]
    }
   ],
   "source": [
    "mean = np.mean(array1) # using mean method\n",
    "print(\"Mean:\", mean)"
   ]
  },
  {
   "cell_type": "code",
   "execution_count": 52,
   "id": "0525627a-e491-44da-9387-8faa85584ca9",
   "metadata": {},
   "outputs": [
    {
     "name": "stdout",
     "output_type": "stream",
     "text": [
      "Sum: 461\n"
     ]
    }
   ],
   "source": [
    "sum = np.sum(array1) # using sum \n",
    "print(\"Sum:\", sum)"
   ]
  },
  {
   "cell_type": "code",
   "execution_count": 53,
   "id": "2c278118-fab8-4e45-946e-55084b7cede4",
   "metadata": {},
   "outputs": [
    {
     "name": "stdout",
     "output_type": "stream",
     "text": [
      "Standard Deviation: 30.008165555395085\n"
     ]
    }
   ],
   "source": [
    "std = np.std(array1) #using std\n",
    "print(\"Standard Deviation:\", std)"
   ]
  },
  {
   "cell_type": "markdown",
   "id": "92ffdad4-231c-4636-a1b0-d8991d4bab49",
   "metadata": {},
   "source": [
    "### 3. Matrix Multiplication\n",
    "- Create a 2x3 matrix and a 3x2 matrix\n",
    "- Perform matrix multiplication using np.dot()."
   ]
  },
  {
   "cell_type": "code",
   "execution_count": 55,
   "id": "53ddf6b7-63ea-41e9-9a20-9a51b664a232",
   "metadata": {},
   "outputs": [
    {
     "data": {
      "text/plain": [
       "array([[ 6, 61, 24],\n",
       "       [78,  0,  5]])"
      ]
     },
     "execution_count": 55,
     "metadata": {},
     "output_type": "execute_result"
    }
   ],
   "source": [
    "# 2x3 matrix\n",
    "matrix = np.random.randint(100, size=(2, 3))\n",
    "matrix"
   ]
  },
  {
   "cell_type": "code",
   "execution_count": 56,
   "id": "5307e970-7e5e-46f8-9d2a-276f4c5c6717",
   "metadata": {},
   "outputs": [
    {
     "data": {
      "text/plain": [
       "array([[51, 33],\n",
       "       [36, 20],\n",
       "       [79, 62]])"
      ]
     },
     "execution_count": 56,
     "metadata": {},
     "output_type": "execute_result"
    }
   ],
   "source": [
    "# 3x2 matrix\n",
    "matrix_2 = np.random.randint(100, size=(3, 2))\n",
    "matrix_2"
   ]
  },
  {
   "cell_type": "code",
   "execution_count": 57,
   "id": "61d65a40-c06d-41f7-ab77-30f3b0980a77",
   "metadata": {},
   "outputs": [
    {
     "data": {
      "text/plain": [
       "array([[4398, 2906],\n",
       "       [4373, 2884]])"
      ]
     },
     "execution_count": 57,
     "metadata": {},
     "output_type": "execute_result"
    }
   ],
   "source": [
    "# Matrix multiplication\n",
    "matrix_mult= np.dot(matrix, matrix_2)\n",
    "matrix_mult"
   ]
  },
  {
   "cell_type": "code",
   "execution_count": 58,
   "id": "6f0c7cf8-6c1c-4b32-a95c-7358bfe29797",
   "metadata": {},
   "outputs": [
    {
     "data": {
      "text/plain": [
       "array([[2880, 3111, 1389],\n",
       "       [1776, 2196,  964],\n",
       "       [5310, 4819, 2206]])"
      ]
     },
     "execution_count": 58,
     "metadata": {},
     "output_type": "execute_result"
    }
   ],
   "source": [
    "# Matrix multiplication\n",
    "matrix_mult= np.dot(matrix_2, matrix)\n",
    "matrix_mult"
   ]
  },
  {
   "cell_type": "markdown",
   "id": "54f7530f-9373-4620-91c3-ec20600cdcb4",
   "metadata": {},
   "source": [
    "## Task 4:"
   ]
  },
  {
   "cell_type": "markdown",
   "id": "ae693a15-d3b3-47bd-8cf1-e40ced487b77",
   "metadata": {},
   "source": [
    "### 1. Temperature Analysis\n",
    "-  Create a 1D array of 7 temperatures (one for each day of the week).\n",
    "Find:\n",
    "1. The average temperature.\n",
    "2. Days with temperatures above the weekly average."
   ]
  },
  {
   "cell_type": "code",
   "execution_count": 61,
   "id": "4e0fd993-fd1f-4859-81bf-c71549d40b45",
   "metadata": {},
   "outputs": [
    {
     "data": {
      "text/plain": [
       "array([37.5, 37.5, 25.4, 16.8, 24.4, 16.6, 23.3])"
      ]
     },
     "execution_count": 61,
     "metadata": {},
     "output_type": "execute_result"
    }
   ],
   "source": [
    "# Create a 1D array of 7 temperatures\n",
    "temperatures = np.array([37.5, 37.5, 25.4, 16.8, 24.4, 16.6, 23.3])\n",
    "temperatures"
   ]
  },
  {
   "cell_type": "code",
   "execution_count": 62,
   "id": "ab1fbde1-2ab5-4570-9a37-35d64dd84cd1",
   "metadata": {},
   "outputs": [
    {
     "data": {
      "text/plain": [
       "25.928571428571427"
      ]
     },
     "execution_count": 62,
     "metadata": {},
     "output_type": "execute_result"
    }
   ],
   "source": [
    "# average temperature\n",
    "avg_temperature = np.mean(temperatures)\n",
    "avg_temperature"
   ]
  },
  {
   "cell_type": "code",
   "execution_count": 63,
   "id": "76d13da1-43e2-4464-b870-d5bad31190b4",
   "metadata": {},
   "outputs": [
    {
     "name": "stdout",
     "output_type": "stream",
     "text": [
      "Monday: 37.5\n",
      "Tuesday: 37.5\n"
     ]
    }
   ],
   "source": [
    "# Days with temperatures above the weekly average\n",
    "above_average_days = np.where(temperatures > avg_temperature)[0]\n",
    "above_average_days\n",
    "\n",
    "# Days of the week\n",
    "days = [\"Monday\", \"Tuesday\", \"Wednesday\", \"Thursday\", \"Friday\", \"Saturday\", \"Sunday\"]\n",
    "\n",
    "# Print each day and its corresponding temperature\n",
    "for day in above_average_days:\n",
    "    print(f\"{days[day]}: {temperatures[day]}\")"
   ]
  },
  {
   "cell_type": "markdown",
   "id": "3ab21409-2533-42a2-a4f8-f547bc13d5a9",
   "metadata": {},
   "source": [
    "### 2. DataFrame Operations\n",
    "- Using pandas, create a DataFrame with two columns:\n",
    "1.  \"Day\" (Monday to Sunday)\n",
    "2.  \"Temperature\" (use the numpy array from Task 4.1).\n",
    "3.  Calculate the day with the highest temperature."
   ]
  },
  {
   "cell_type": "code",
   "execution_count": 65,
   "id": "f823fcc7-ab70-4540-8ff8-7c6cb7aff135",
   "metadata": {},
   "outputs": [
    {
     "data": {
      "text/html": [
       "<div>\n",
       "<style scoped>\n",
       "    .dataframe tbody tr th:only-of-type {\n",
       "        vertical-align: middle;\n",
       "    }\n",
       "\n",
       "    .dataframe tbody tr th {\n",
       "        vertical-align: top;\n",
       "    }\n",
       "\n",
       "    .dataframe thead th {\n",
       "        text-align: right;\n",
       "    }\n",
       "</style>\n",
       "<table border=\"1\" class=\"dataframe\">\n",
       "  <thead>\n",
       "    <tr style=\"text-align: right;\">\n",
       "      <th></th>\n",
       "      <th>Day</th>\n",
       "      <th>Temperature</th>\n",
       "    </tr>\n",
       "  </thead>\n",
       "  <tbody>\n",
       "    <tr>\n",
       "      <th>0</th>\n",
       "      <td>Monday</td>\n",
       "      <td>37.5</td>\n",
       "    </tr>\n",
       "    <tr>\n",
       "      <th>1</th>\n",
       "      <td>Tuesday</td>\n",
       "      <td>37.5</td>\n",
       "    </tr>\n",
       "    <tr>\n",
       "      <th>2</th>\n",
       "      <td>Wednesday</td>\n",
       "      <td>25.4</td>\n",
       "    </tr>\n",
       "    <tr>\n",
       "      <th>3</th>\n",
       "      <td>Thursday</td>\n",
       "      <td>16.8</td>\n",
       "    </tr>\n",
       "    <tr>\n",
       "      <th>4</th>\n",
       "      <td>Friday</td>\n",
       "      <td>24.4</td>\n",
       "    </tr>\n",
       "    <tr>\n",
       "      <th>5</th>\n",
       "      <td>Saturday</td>\n",
       "      <td>16.6</td>\n",
       "    </tr>\n",
       "    <tr>\n",
       "      <th>6</th>\n",
       "      <td>Sunday</td>\n",
       "      <td>23.3</td>\n",
       "    </tr>\n",
       "  </tbody>\n",
       "</table>\n",
       "</div>"
      ],
      "text/plain": [
       "         Day  Temperature\n",
       "0     Monday         37.5\n",
       "1    Tuesday         37.5\n",
       "2  Wednesday         25.4\n",
       "3   Thursday         16.8\n",
       "4     Friday         24.4\n",
       "5   Saturday         16.6\n",
       "6     Sunday         23.3"
      ]
     },
     "execution_count": 65,
     "metadata": {},
     "output_type": "execute_result"
    }
   ],
   "source": [
    "data = {\n",
    "    \"Day\": [\"Monday\", \"Tuesday\", \"Wednesday\", \"Thursday\", \"Friday\", \"Saturday\", \"Sunday\"],\n",
    "    \"Temperature\": temperatures\n",
    "}\n",
    "df = pd.DataFrame(data)\n",
    "df"
   ]
  },
  {
   "cell_type": "code",
   "execution_count": 66,
   "id": "8370fb14-c501-404c-85c1-1b001c7de2d0",
   "metadata": {},
   "outputs": [
    {
     "data": {
      "text/plain": [
       "37.5"
      ]
     },
     "execution_count": 66,
     "metadata": {},
     "output_type": "execute_result"
    }
   ],
   "source": [
    "# highest temperature\n",
    "max_temperature= df['Temperature'].max()\n",
    "max_temperature"
   ]
  },
  {
   "cell_type": "code",
   "execution_count": 67,
   "id": "795eaca3-25af-4f94-acc0-dc1cae7b2823",
   "metadata": {},
   "outputs": [
    {
     "name": "stdout",
     "output_type": "stream",
     "text": [
      "Monday: 37.5\n",
      "Tuesday: 37.5\n"
     ]
    }
   ],
   "source": [
    "above_average_days = df['Temperature'] == max_temperature\n",
    "\n",
    "# Print all days have max temperatures\n",
    "for day, temp in df[above_average_days].iterrows():\n",
    "    print(f\"{temp['Day']}: {temp['Temperature']}\")"
   ]
  },
  {
   "cell_type": "code",
   "execution_count": 68,
   "id": "8061274f-e93f-4869-8072-6145e55d209e",
   "metadata": {},
   "outputs": [
    {
     "data": {
      "text/html": [
       "<div>\n",
       "<style scoped>\n",
       "    .dataframe tbody tr th:only-of-type {\n",
       "        vertical-align: middle;\n",
       "    }\n",
       "\n",
       "    .dataframe tbody tr th {\n",
       "        vertical-align: top;\n",
       "    }\n",
       "\n",
       "    .dataframe thead th {\n",
       "        text-align: right;\n",
       "    }\n",
       "</style>\n",
       "<table border=\"1\" class=\"dataframe\">\n",
       "  <thead>\n",
       "    <tr style=\"text-align: right;\">\n",
       "      <th></th>\n",
       "      <th>Day</th>\n",
       "      <th>Temperature</th>\n",
       "    </tr>\n",
       "  </thead>\n",
       "  <tbody>\n",
       "    <tr>\n",
       "      <th>0</th>\n",
       "      <td>Monday</td>\n",
       "      <td>37.5</td>\n",
       "    </tr>\n",
       "  </tbody>\n",
       "</table>\n",
       "</div>"
      ],
      "text/plain": [
       "      Day  Temperature\n",
       "0  Monday         37.5"
      ]
     },
     "execution_count": 68,
     "metadata": {},
     "output_type": "execute_result"
    }
   ],
   "source": [
    "# index of the highest temperature\n",
    "max_temperature_id = df['Temperature'].idxmax()\n",
    "# row with the higest temperature\n",
    "df.loc[[max_temperature_id]]"
   ]
  },
  {
   "cell_type": "markdown",
   "id": "2cb6740b-2e96-49d6-9d37-5e2b52b3ef58",
   "metadata": {},
   "source": [
    "### 3. Stock Price simulation\n",
    "- Create a pandas DataFrame with random stock prices for 5 days\n",
    "- Add a column to calculate the percentage change in price day-to-day"
   ]
  },
  {
   "cell_type": "code",
   "execution_count": 70,
   "id": "5c46c4fa-7835-4689-b7a9-96c563651e9d",
   "metadata": {},
   "outputs": [
    {
     "data": {
      "text/html": [
       "<div>\n",
       "<style scoped>\n",
       "    .dataframe tbody tr th:only-of-type {\n",
       "        vertical-align: middle;\n",
       "    }\n",
       "\n",
       "    .dataframe tbody tr th {\n",
       "        vertical-align: top;\n",
       "    }\n",
       "\n",
       "    .dataframe thead th {\n",
       "        text-align: right;\n",
       "    }\n",
       "</style>\n",
       "<table border=\"1\" class=\"dataframe\">\n",
       "  <thead>\n",
       "    <tr style=\"text-align: right;\">\n",
       "      <th></th>\n",
       "      <th>Day</th>\n",
       "      <th>Stock Price</th>\n",
       "    </tr>\n",
       "  </thead>\n",
       "  <tbody>\n",
       "    <tr>\n",
       "      <th>0</th>\n",
       "      <td>Saturday</td>\n",
       "      <td>752</td>\n",
       "    </tr>\n",
       "    <tr>\n",
       "      <th>1</th>\n",
       "      <td>Sunday</td>\n",
       "      <td>409</td>\n",
       "    </tr>\n",
       "    <tr>\n",
       "      <th>2</th>\n",
       "      <td>Monday</td>\n",
       "      <td>548</td>\n",
       "    </tr>\n",
       "    <tr>\n",
       "      <th>3</th>\n",
       "      <td>Tuesday</td>\n",
       "      <td>945</td>\n",
       "    </tr>\n",
       "    <tr>\n",
       "      <th>4</th>\n",
       "      <td>Wednesday</td>\n",
       "      <td>605</td>\n",
       "    </tr>\n",
       "  </tbody>\n",
       "</table>\n",
       "</div>"
      ],
      "text/plain": [
       "         Day  Stock Price\n",
       "0   Saturday          752\n",
       "1     Sunday          409\n",
       "2     Monday          548\n",
       "3    Tuesday          945\n",
       "4  Wednesday          605"
      ]
     },
     "execution_count": 70,
     "metadata": {},
     "output_type": "execute_result"
    }
   ],
   "source": [
    "# Create random stock prices for 5 days\n",
    "stock_prices = np.random.randint(1000, size=5)\n",
    "# DataFrame\n",
    "df = pd.DataFrame({\"Day\": [\"Saturday\", \"Sunday\", \"Monday\", \"Tuesday\", \"Wednesday\"], \"Stock Price\": stock_prices})\n",
    "df"
   ]
  },
  {
   "cell_type": "code",
   "execution_count": 71,
   "id": "0a7ad814-3b75-4925-9682-fcf0a1ded682",
   "metadata": {},
   "outputs": [
    {
     "data": {
      "text/html": [
       "<div>\n",
       "<style scoped>\n",
       "    .dataframe tbody tr th:only-of-type {\n",
       "        vertical-align: middle;\n",
       "    }\n",
       "\n",
       "    .dataframe tbody tr th {\n",
       "        vertical-align: top;\n",
       "    }\n",
       "\n",
       "    .dataframe thead th {\n",
       "        text-align: right;\n",
       "    }\n",
       "</style>\n",
       "<table border=\"1\" class=\"dataframe\">\n",
       "  <thead>\n",
       "    <tr style=\"text-align: right;\">\n",
       "      <th></th>\n",
       "      <th>Day</th>\n",
       "      <th>Stock Price</th>\n",
       "      <th>Percentage Change</th>\n",
       "    </tr>\n",
       "  </thead>\n",
       "  <tbody>\n",
       "    <tr>\n",
       "      <th>0</th>\n",
       "      <td>Saturday</td>\n",
       "      <td>752</td>\n",
       "      <td>NaN</td>\n",
       "    </tr>\n",
       "    <tr>\n",
       "      <th>1</th>\n",
       "      <td>Sunday</td>\n",
       "      <td>409</td>\n",
       "      <td>-45.611702</td>\n",
       "    </tr>\n",
       "    <tr>\n",
       "      <th>2</th>\n",
       "      <td>Monday</td>\n",
       "      <td>548</td>\n",
       "      <td>33.985330</td>\n",
       "    </tr>\n",
       "    <tr>\n",
       "      <th>3</th>\n",
       "      <td>Tuesday</td>\n",
       "      <td>945</td>\n",
       "      <td>72.445255</td>\n",
       "    </tr>\n",
       "    <tr>\n",
       "      <th>4</th>\n",
       "      <td>Wednesday</td>\n",
       "      <td>605</td>\n",
       "      <td>-35.978836</td>\n",
       "    </tr>\n",
       "  </tbody>\n",
       "</table>\n",
       "</div>"
      ],
      "text/plain": [
       "         Day  Stock Price  Percentage Change\n",
       "0   Saturday          752                NaN\n",
       "1     Sunday          409         -45.611702\n",
       "2     Monday          548          33.985330\n",
       "3    Tuesday          945          72.445255\n",
       "4  Wednesday          605         -35.978836"
      ]
     },
     "execution_count": 71,
     "metadata": {},
     "output_type": "execute_result"
    }
   ],
   "source": [
    "#  percentage change in price day-to-day\n",
    "df['Percentage Change'] = df['Stock Price'].pct_change() * 100 \n",
    "# pct_change: Computes the fractional change from the immediately previous row by default\n",
    "# Ex: Wednesday : The percentage change = (952−269/269)×100 ≈ 253.903346%\n",
    "df"
   ]
  },
  {
   "cell_type": "markdown",
   "id": "202a2563-db65-45a4-a3e2-1af279421330",
   "metadata": {},
   "source": [
    "## Bonus Question:\n",
    "### Multi-Dimensional Data Analysis"
   ]
  },
  {
   "cell_type": "markdown",
   "id": "e4d52512-137f-496c-9310-1566384f3544",
   "metadata": {},
   "source": [
    "-  Create a 3D array representing sales data for 3 products over 4 weeks (rows) and 7\n",
    "days per week (columns)."
   ]
  },
  {
   "cell_type": "code",
   "execution_count": 74,
   "id": "82595fb2-cabb-4853-954b-ab78125f93f8",
   "metadata": {},
   "outputs": [
    {
     "data": {
      "text/plain": [
       "array([[[65, 86, 56, 40, 91, 16, 36],\n",
       "        [59, 95, 88, 43,  3, 10, 84],\n",
       "        [79, 27, 52, 46, 95, 88, 85],\n",
       "        [15, 23, 25, 12, 60, 24,  7]],\n",
       "\n",
       "       [[10, 67, 91, 14, 65, 79, 35],\n",
       "        [32, 44, 22, 99, 60, 62, 12],\n",
       "        [56, 50, 72, 50, 70, 14, 58],\n",
       "        [92, 16, 14, 57, 75, 82, 27]],\n",
       "\n",
       "       [[65, 84, 56, 99, 82, 21, 25],\n",
       "        [ 3, 94, 74, 38, 29, 75,  8],\n",
       "        [98, 43,  1, 98,  4, 69, 84],\n",
       "        [64, 53, 22, 62, 76, 66, 24]]])"
      ]
     },
     "execution_count": 74,
     "metadata": {},
     "output_type": "execute_result"
    }
   ],
   "source": [
    "data = np.random.randint(100, size=(3, 4, 7)) # random sales data for 3 products over 4 weeks and 7 days per week\n",
    "data"
   ]
  },
  {
   "cell_type": "raw",
   "id": "38d45ca2-4e2e-4a97-8f91-4dfeb198dd06",
   "metadata": {},
   "source": [
    "# more clear \n",
    "     Product    Week    Day  Sales\n",
    "0   Product 1  Week 1  Day 1     38\n",
    "1   Product 1  Week 1  Day 2     7\n",
    "2   Product 1  Week 1  Day 3     70\n",
    "3   Product 1  Week 1  Day 4     91\n",
    "4   Product 1  Week 1  Day 5     42\n",
    "5   Product 1  Week 1  Day 6     29\n",
    "6   Product 1  Week 1  Day 7     43\n",
    "7   Product 1  Week 2  Day 1     40\n",
    "8   Product 1  Week 2  Day 2     14\n",
    "9   Product 1  Week 2  Day 3     56\n",
    "10  Product 1  Week 2  Day 4     77\n",
    "11  Product 1  Week 2  Day 5     25\n",
    "12  Product 1  Week 2  Day 6     10\n",
    "13  Product 1  Week 2  Day 7     41\n",
    "...\n",
    "74  Product 3  Week 4  Day 1     25\n",
    "75  Product 3  Week 4  Day 2     39\n",
    "76  Product 3  Week 4  Day 3     94\n",
    "77  Product 3  Week 4  Day 4     50\n",
    "78  Product 3  Week 4  Day 5     63\n",
    "79  Product 3  Week 4  Day 6     7\n",
    "80  Product 3  Week 4  Day 7     86"
   ]
  },
  {
   "cell_type": "markdown",
   "id": "80c3733c-da73-4285-8e27-97fb14773f23",
   "metadata": {},
   "source": [
    "- Calculate the total sales for each product across all weeks and days."
   ]
  },
  {
   "cell_type": "code",
   "execution_count": 76,
   "id": "e5c2ed69-05bf-423b-aab8-f5d92a9a2d24",
   "metadata": {},
   "outputs": [
    {
     "data": {
      "text/plain": [
       "array([1410, 1425, 1517])"
      ]
     },
     "execution_count": 76,
     "metadata": {},
     "output_type": "execute_result"
    }
   ],
   "source": [
    "total_sales_for_product = np.sum(data, axis=(1, 2))\n",
    "# axis=1 weeks\n",
    "# axis=2 days\n",
    "total_sales_for_product"
   ]
  },
  {
   "cell_type": "code",
   "execution_count": 77,
   "id": "2d1e8069-7881-4f8d-bd9d-9704ec1a919e",
   "metadata": {},
   "outputs": [
    {
     "name": "stdout",
     "output_type": "stream",
     "text": [
      "Total sales for Product 1: 1410\n",
      "Total sales for Product 2: 1425\n",
      "Total sales for Product 3: 1517\n"
     ]
    }
   ],
   "source": [
    "for i, total in enumerate(total_sales_for_product):\n",
    "    print(f\"Total sales for Product {i+1}: {total}\")"
   ]
  },
  {
   "cell_type": "markdown",
   "id": "d07a542b-88c3-4e63-9b4f-0937a472fc29",
   "metadata": {},
   "source": [
    "- Determine the day with the highest sales for each product in the dataset.\n"
   ]
  },
  {
   "cell_type": "code",
   "execution_count": 79,
   "id": "747c97f9-8088-41a3-9b61-9a40c7a67490",
   "metadata": {},
   "outputs": [
    {
     "data": {
      "text/plain": [
       "array([[218, 231, 221, 141, 249, 138, 212],\n",
       "       [190, 177, 199, 220, 270, 237, 132],\n",
       "       [230, 274, 153, 297, 191, 231, 141]])"
      ]
     },
     "execution_count": 79,
     "metadata": {},
     "output_type": "execute_result"
    }
   ],
   "source": [
    "sales_per_day_per_product = data.sum(axis=1) # Sales for Each Day Across All Days for Each Product\n",
    "sales_per_day_per_product"
   ]
  },
  {
   "cell_type": "code",
   "execution_count": 80,
   "id": "09d36da1-518b-4eea-90c8-222e2ad585aa",
   "metadata": {},
   "outputs": [
    {
     "data": {
      "text/plain": [
       "array([4, 4, 3], dtype=int64)"
      ]
     },
     "execution_count": 80,
     "metadata": {},
     "output_type": "execute_result"
    }
   ],
   "source": [
    "highest_sales_day_per_product = np.argmax(sales_per_day_per_product, axis=1)\n",
    "highest_sales_day_per_product"
   ]
  },
  {
   "cell_type": "code",
   "execution_count": 81,
   "id": "f1656979-c528-4438-89b3-7643f1991ff6",
   "metadata": {},
   "outputs": [
    {
     "name": "stdout",
     "output_type": "stream",
     "text": [
      "highest sales for Product 1: in Day 5\n",
      "highest sales for Product 2: in Day 5\n",
      "highest sales for Product 3: in Day 4\n"
     ]
    }
   ],
   "source": [
    "for i, day in enumerate(highest_sales_day_per_product):\n",
    "    print(f\"highest sales for Product {i+1}: in Day {day+1}\")"
   ]
  },
  {
   "cell_type": "markdown",
   "id": "48b452fe-6da2-4d94-b6ec-b83fe8ef047b",
   "metadata": {},
   "source": [
    "- Identify the week with the lowest total sales overall."
   ]
  },
  {
   "cell_type": "code",
   "execution_count": 83,
   "id": "a1e8d43e-8ab9-410c-92e9-ebb64d63d439",
   "metadata": {},
   "outputs": [
    {
     "data": {
      "text/plain": [
       "array([1183, 1034, 1239,  896])"
      ]
     },
     "execution_count": 83,
     "metadata": {},
     "output_type": "execute_result"
    }
   ],
   "source": [
    "# Sum sales for each week across all products and days\n",
    "total_sales_per_week = data.sum(axis=(0, 2))\n",
    "\n",
    "total_sales_per_week"
   ]
  },
  {
   "cell_type": "code",
   "execution_count": 84,
   "id": "6de99469-e817-414b-b30e-1ec671d8284c",
   "metadata": {},
   "outputs": [
    {
     "name": "stdout",
     "output_type": "stream",
     "text": [
      "Week with the lowest total sales overall: Week 4\n"
     ]
    }
   ],
   "source": [
    "# Find the week with the lowest total sales overall\n",
    "lowest_sales_week = np.argmin(total_sales_per_week) + 1  # +1 to convert from 0-3 index to 1-4 index\n",
    "\n",
    "# Print the week with the lowest total sales\n",
    "print(f\"Week with the lowest total sales overall: Week {lowest_sales_week}\")"
   ]
  },
  {
   "cell_type": "code",
   "execution_count": null,
   "id": "3abb35ad-3e35-4589-a8d5-691764c8a219",
   "metadata": {},
   "outputs": [],
   "source": []
  }
 ],
 "metadata": {
  "kernelspec": {
   "display_name": "Python [conda env:base] *",
   "language": "python",
   "name": "conda-base-py"
  },
  "language_info": {
   "codemirror_mode": {
    "name": "ipython",
    "version": 3
   },
   "file_extension": ".py",
   "mimetype": "text/x-python",
   "name": "python",
   "nbconvert_exporter": "python",
   "pygments_lexer": "ipython3",
   "version": "3.12.7"
  }
 },
 "nbformat": 4,
 "nbformat_minor": 5
}
